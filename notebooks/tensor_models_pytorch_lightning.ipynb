{
 "cells": [
  {
   "cell_type": "code",
   "execution_count": null,
   "metadata": {},
   "outputs": [],
   "source": [
    "%load_ext autoreload\n",
    "%autoreload 2"
   ]
  },
  {
   "cell_type": "code",
   "execution_count": null,
   "metadata": {},
   "outputs": [],
   "source": [
    "import sys; sys.path.extend([\"../src\", \"..\"])\n",
    "import sensai\n",
    "import logging\n",
    "import config\n",
    "\n",
    "c = config.get_config(reload=True)\n",
    "sensai.util.logging.configureLogging(level=logging.INFO)"
   ]
  },
  {
   "cell_type": "markdown",
   "metadata": {
    "collapsed": false,
    "pycharm": {
     "name": "#%% md\n"
    }
   },
   "source": [
    "# Tensor Models with PyTorch-Lightning\n",
    "\n",
    "In this notebook we show how sensAI's TensorModel wrappers can be used together with pytorch-lightning models\n",
    "and trainers for even faster development and experimentation."
   ]
  },
  {
   "cell_type": "code",
   "execution_count": null,
   "metadata": {},
   "outputs": [],
   "source": [
    "from IPython.display import display\n",
    "import torch\n",
    "from torch.nn import functional as F\n",
    "import pytorch_lightning as pl\n",
    "import matplotlib.pyplot as plt\n",
    "import numpy as np\n",
    "import pandas as pd\n",
    "from sensai.data import InputOutputArrays, DataSplitterFractional\n",
    "\n",
    "from sensai.pytorch_lightning import PLTensorToScalarClassificationModel\n",
    "from sensai.tensor_model import extractArray\n",
    "\n",
    "import logging\n",
    "logging.basicConfig(level=logging.INFO)\n",
    "\n",
    "from config import get_config\n",
    "\n",
    "c  = get_config()"
   ]
  },
  {
   "cell_type": "markdown",
   "metadata": {
    "collapsed": false,
    "pycharm": {
     "name": "#%% md\n"
    }
   },
   "source": [
    "## Loading the Data\n",
    "\n",
    "Unlike in the mnist-based torch-lightning tutorial, here we will load the data in a more \"realistic\" way,\n",
    "namely with pandas from disc."
   ]
  },
  {
   "cell_type": "code",
   "execution_count": null,
   "metadata": {
    "pycharm": {
     "name": "#%%\n"
    }
   },
   "outputs": [],
   "source": [
    "X = pd.read_csv(c.datafile_path(\"mnist_train.csv.zip\"))\n",
    "labels = pd.DataFrame(X.pop(\"label\")).astype(np.int64)\n",
    "X = X.values.reshape(len(X), 28, 28) / 2 ** 8\n",
    "X = pd.DataFrame({\"mnist_image\": list(X)}, index=labels.index)\n",
    "\n",
    "display(X.head())\n",
    "display(labels.head())\n",
    "\n",
    "display(\"Plotting some image from the data set\")\n",
    "some_image = X.iloc[13, 0]\n",
    "plt.imshow(some_image)\n",
    "plt.show()\n"
   ]
  },
  {
   "cell_type": "markdown",
   "metadata": {
    "collapsed": false,
    "pycharm": {
     "name": "#%% md\n"
    }
   },
   "source": [
    "## Using Data Loaders in Pure PyTorch Lightning\n",
    "\n",
    "First, let us see how training would proceed in pure pytorch-lightning.\n",
    "\n",
    "We will use sensaAI only for obtaining torch data loaders (which otherwise would require a few more lines of code)\n",
    "by transforming the data frames to arrays, splitting them and converting them to loaders."
   ]
  },
  {
   "cell_type": "code",
   "execution_count": null,
   "metadata": {
    "collapsed": false,
    "pycharm": {
     "name": "#%%\n"
    }
   },
   "outputs": [],
   "source": [
    "TEST_FRACTION = 0.2\n",
    "VALIDATION_FRACTION = 0.1\n",
    "\n",
    "full_ds = InputOutputArrays(extractArray(X), extractArray(labels))\n",
    "\n",
    "full_train_ds, test_ds = DataSplitterFractional(1-VALIDATION_FRACTION).split(full_ds)\n",
    "train_ds, val_ds = DataSplitterFractional(1-VALIDATION_FRACTION).split(full_train_ds)\n",
    "train_dataloader = train_ds.toTorchDataLoader()\n",
    "val_dataloader = val_ds.toTorchDataLoader()\n",
    "test_dataloader = test_ds.toTorchDataLoader()"
   ]
  },
  {
   "cell_type": "markdown",
   "metadata": {
    "collapsed": false,
    "pycharm": {
     "name": "#%% md\n"
    }
   },
   "source": [
    "Now that we have the data loaders, let us forget about sensAI for the moment. We create the model declaration and\n",
    "trainer with pytorch-lightning and fit on the MNIST data"
   ]
  },
  {
   "cell_type": "code",
   "execution_count": null,
   "metadata": {
    "collapsed": false,
    "pycharm": {
     "name": "#%%\n"
    }
   },
   "outputs": [],
   "source": [
    "class MNISTModel(pl.LightningModule):\n",
    "\n",
    "    def __init__(self):\n",
    "        super(MNISTModel, self).__init__()\n",
    "        self.l1 = torch.nn.Linear(28 * 28, 10)\n",
    "\n",
    "    def forward(self, x: torch.Tensor):\n",
    "        x = x.float()\n",
    "        x = torch.relu(self.l1(x.view(x.size(0), -1)))\n",
    "        return F.log_softmax(x, dim=1)\n",
    "\n",
    "    def training_step(self, batch, *args):\n",
    "        x, y = batch\n",
    "        loss = F.nll_loss(self(x), y)\n",
    "        return loss\n",
    "\n",
    "    def validation_step(self, batch, *args):\n",
    "        x, y = batch\n",
    "        loss = F.nll_loss(self(x), y)\n",
    "        return loss\n",
    "\n",
    "    def configure_optimizers(self):\n",
    "        return torch.optim.Adam(self.parameters(), lr=0.02)"
   ]
  },
  {
   "cell_type": "code",
   "execution_count": null,
   "metadata": {
    "collapsed": false,
    "pycharm": {
     "name": "#%%\n"
    }
   },
   "outputs": [],
   "source": [
    "mnist_model = MNISTModel()\n",
    "\n",
    "trainer = pl.Trainer(max_epochs=5, progress_bar_refresh_rate=20)\n",
    "trainer.fit(mnist_model, train_dataloader, val_dataloader)"
   ]
  },
  {
   "cell_type": "markdown",
   "metadata": {
    "collapsed": false,
    "pycharm": {
     "name": "#%% md\n"
    }
   },
   "source": [
    "Let us pick some images from the validation set and look at the results"
   ]
  },
  {
   "cell_type": "code",
   "execution_count": null,
   "metadata": {
    "collapsed": false,
    "pycharm": {
     "name": "#%%\n"
    }
   },
   "outputs": [],
   "source": [
    "mini_test_set = test_dataloader.dataset[10:20]\n",
    "test_images, test_labels = mini_test_set\n",
    "\n",
    "display(mnist_model(test_images).argmax(axis=1))\n",
    "display(test_labels)"
   ]
  },
  {
   "cell_type": "code",
   "execution_count": null,
   "metadata": {},
   "outputs": [],
   "source": [
    "import sklearn\n",
    "\n",
    "sklearn.metrics.accuracy_score(test_ds.outputs, mnist_model(test_dataloader.dataset[:][0]).argmax(axis=1))"
   ]
  },
  {
   "cell_type": "markdown",
   "metadata": {
    "collapsed": false,
    "pycharm": {
     "name": "#%% md\n"
    }
   },
   "source": [
    "## Wrapping the Model with sensAI\n",
    "\n",
    "Now let us wrap the model with sensAI interfaces. Since sensAI offers dedicated wrappers\n",
    "for pytorch-lightning models, this requires only one additional line of code.\n",
    "\n",
    "This model maps a tensor to a single label, so the correct class to wrap it with is `PLTensorToScalarClassificationModel`,\n",
    "where the `PL` prefix stands for pytorch-lightning."
   ]
  },
  {
   "cell_type": "code",
   "execution_count": null,
   "metadata": {
    "collapsed": false,
    "pycharm": {
     "name": "#%%\n"
    }
   },
   "outputs": [],
   "source": [
    "mnist_model = MNISTModel()\n",
    "trainer = pl.Trainer(max_epochs=3, progress_bar_refresh_rate=20)\n",
    "sensaiMnistModel = PLTensorToScalarClassificationModel(mnist_model, trainer, validationFraction=VALIDATION_FRACTION)"
   ]
  },
  {
   "cell_type": "markdown",
   "metadata": {
    "collapsed": false,
    "pycharm": {
     "name": "#%% md\n"
    }
   },
   "source": [
    "NB: Even without dedicated wrappers, it would require only a few more lines of code to get a custom implementation of\n",
    "a suitable sensAI base class that wraps one's model."
   ]
  },
  {
   "cell_type": "markdown",
   "metadata": {
    "collapsed": false,
    "pycharm": {
     "name": "#%% md\n"
    }
   },
   "source": [
    "With the wrapped model, we can fit directly on the data frames. We don't lose any of the niceties that pytorch-lightning\n",
    "brings to the game (both the original model and the trainer are available in `sensaiMnistModel`). By wrapping the\n",
    "model and trainer we gain all the safety, transparency, flexibility in feature engineering as well\n",
    "as extensive support for model evaluation that sensAI is all about."
   ]
  },
  {
   "cell_type": "code",
   "execution_count": null,
   "metadata": {},
   "outputs": [],
   "source": [
    "display(labels.dtypes)\n",
    "np.stack(np.stack(labels.values, axis=1).squeeze(), axis=0).shape"
   ]
  },
  {
   "cell_type": "code",
   "execution_count": null,
   "metadata": {
    "collapsed": false,
    "pycharm": {
     "name": "#%%\n"
    }
   },
   "outputs": [],
   "source": [
    "ioData = sensai.InputOutputData(X, labels)\n",
    "trainData, testData = DataSplitterFractional(0.8).split(ioData)\n",
    "\n",
    "sensaiMnistModel.fitInputOutputData(trainData)"
   ]
  },
  {
   "cell_type": "markdown",
   "metadata": {
    "collapsed": false,
    "pycharm": {
     "name": "#%% md\n"
    }
   },
   "source": [
    "The wrapped model performs predictions on data frames. Let us take some points from the training set,\n",
    "perform a prediction on them and have a look at the true labels"
   ]
  },
  {
   "cell_type": "code",
   "execution_count": null,
   "metadata": {
    "collapsed": false,
    "pycharm": {
     "name": "#%%\n"
    }
   },
   "outputs": [],
   "source": [
    "display(\"Predicted data frame\")\n",
    "display(sensaiMnistModel.predict(testData.inputs.iloc[:10]))\n",
    "display(\"True labels data frame\")\n",
    "display(testData.outputs.iloc[:10])"
   ]
  },
  {
   "cell_type": "markdown",
   "metadata": {
    "collapsed": false,
    "pycharm": {
     "name": "#%% md\n"
    }
   },
   "source": [
    "## Evaluating the Model"
   ]
  },
  {
   "cell_type": "code",
   "execution_count": null,
   "metadata": {},
   "outputs": [],
   "source": [
    "evaluator = sensai.evaluation.VectorClassificationModelEvaluator(trainData, testData)\n",
    "evaluator.evalModel(sensaiMnistModel).getEvalStats().metricsDict()"
   ]
  }
 ],
 "metadata": {
  "interpreter": {
   "hash": "9b3442ae4bdb9561e722e28424c33a03c16d40b3aa50369b79d367cad7b1adea"
  },
  "kernelspec": {
   "display_name": "Python 3.7.9 ('sensai')",
   "language": "python",
   "name": "python3"
  },
  "language_info": {
   "codemirror_mode": {
    "name": "ipython",
    "version": 3
   },
   "file_extension": ".py",
   "mimetype": "text/x-python",
   "name": "python",
   "nbconvert_exporter": "python",
   "pygments_lexer": "ipython3",
   "version": "3.8.13"
  }
 },
 "nbformat": 4,
 "nbformat_minor": 1
}

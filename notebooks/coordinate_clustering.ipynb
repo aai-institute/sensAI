{
 "cells": [
  {
   "cell_type": "code",
   "execution_count": null,
   "metadata": {},
   "outputs": [],
   "source": [
    "%load_ext autoreload\n",
    "%autoreload 2"
   ]
  },
  {
   "cell_type": "code",
   "execution_count": null,
   "metadata": {},
   "outputs": [],
   "source": [
    "import sys; sys.path.extend([\"../src\", \"..\"])\n",
    "import os\n",
    "import config\n",
    "import sensai\n",
    "import logging\n",
    "\n",
    "c = config.get_config(reload=True)\n",
    "sensai.util.logging.configureLogging(level=logging.INFO)"
   ]
  },
  {
   "cell_type": "markdown",
   "metadata": {
    "pycharm": {
     "name": "#%% md\n"
    }
   },
   "source": [
    "# Coordinate Clustering\n",
    "\n",
    "On top of support for different clustering algorithms, sensAI provides useful methods specific to\n",
    "clustering of geospatial data. They include utilities for wrangling geometrical data, spanning trees and for persisting and\n",
    "visualizing the results. It seamlessly interoperates with geopandas and shapely.\n",
    "This notebook gives an overview of the coordinate clustering's main functions"
   ]
  },
  {
   "cell_type": "code",
   "execution_count": null,
   "metadata": {
    "pycharm": {
     "name": "#%%\n"
    }
   },
   "outputs": [],
   "source": [
    "import geopandas as gp\n",
    "from pprint import pprint\n",
    "import numpy as np\n",
    "\n",
    "from sklearn.cluster import DBSCAN\n",
    "\n",
    "import logging\n",
    "from sensai.geoanalytics.geopandas.graph import CoordinateSpanningTree\n",
    "from sensai.geoanalytics.geopandas.coordinate_clustering import SkLearnCoordinateClustering\n",
    "from sensai.geoanalytics.geopandas.geometry import alphaShape"
   ]
  },
  {
   "cell_type": "markdown",
   "metadata": {
    "pycharm": {
     "name": "#%% md\n"
    }
   },
   "source": [
    "## Loading Data and Fitting a Clusterer"
   ]
  },
  {
   "cell_type": "markdown",
   "metadata": {
    "pycharm": {
     "name": "#%% md\n"
    }
   },
   "source": [
    "The library contains utilities for loading coordinates from files and for wrapping arbitrary scikit-learn-compatible\n",
    "clustering algorithms. Custom clustering algorithms can be implemented by inheriting from the base class\n",
    "`EuclideanClusterer`."
   ]
  },
  {
   "cell_type": "code",
   "execution_count": null,
   "metadata": {
    "pycharm": {
     "name": "#%%\n"
    }
   },
   "outputs": [],
   "source": [
    "sampleFile = c.datafile_path(\"sample\", stage=c.RAW) # this can point to a directory or a shp/geojson file\n",
    "sampleGeoDF = gp.read_file(sampleFile)\n",
    "sampleGeoDF"
   ]
  },
  {
   "cell_type": "code",
   "execution_count": null,
   "metadata": {},
   "outputs": [],
   "source": [
    "dbscan = SkLearnCoordinateClustering(DBSCAN(eps=150, min_samples=20))\n",
    "dbscan.fit(sampleGeoDF)"
   ]
  },
  {
   "cell_type": "markdown",
   "metadata": {
    "pycharm": {
     "name": "#%% md\n"
    }
   },
   "source": [
    "The instance has many useful methods.\n",
    "You can retrieve clusters individually or via a generator. The noise cluster can be accessed individually."
   ]
  },
  {
   "cell_type": "code",
   "execution_count": null,
   "metadata": {
    "pycharm": {
     "name": "#%%\n"
    }
   },
   "outputs": [],
   "source": [
    "print(f\"Clusters found: {dbscan.numClusters}\")\n",
    "\n",
    "clustersMin50 = list(dbscan.clusters(condition=lambda x: len(x) >= 50))\n",
    "\n",
    "print(f\"Clusters with at least 50 members: {len(clustersMin50)}\")"
   ]
  },
  {
   "cell_type": "markdown",
   "metadata": {
    "pycharm": {
     "name": "#%% md\n"
    }
   },
   "source": [
    "## Analysis and Visualization"
   ]
  },
  {
   "cell_type": "markdown",
   "metadata": {
    "pycharm": {
     "name": "#%% md\n"
    }
   },
   "source": [
    "From the instance, individual clusters, which are instances of `EuclidianClusterer.Cluster`,\n",
    "can be retrieved and visualized. Most objects, including the clusterer itself, have a built-in plot method."
   ]
  },
  {
   "cell_type": "code",
   "execution_count": null,
   "metadata": {
    "pycharm": {
     "name": "#%%\n"
    }
   },
   "outputs": [],
   "source": [
    "dbscan.plot(markersize=0.2)"
   ]
  },
  {
   "cell_type": "markdown",
   "metadata": {
    "pycharm": {
     "name": "#%% md\n"
    }
   },
   "source": [
    "We can apply a condition to the clusters to be plotted and pass additional arguments affecting the display."
   ]
  },
  {
   "cell_type": "code",
   "execution_count": null,
   "metadata": {
    "pycharm": {
     "name": "#%%\n"
    }
   },
   "outputs": [],
   "source": [
    "dbscan.plot(condition=lambda x: len(x) >= 50, cmap='plasma')"
   ]
  },
  {
   "cell_type": "markdown",
   "metadata": {
    "pycharm": {
     "name": "#%% md\n"
    }
   },
   "source": [
    "### Properties of Individual Clusters\n",
    "\n",
    "Individual clusters can be plotted, too."
   ]
  },
  {
   "cell_type": "code",
   "execution_count": null,
   "metadata": {
    "pycharm": {
     "name": "#%%\n"
    }
   },
   "outputs": [],
   "source": [
    "sampleCluster = dbscan.getCluster(0)\n",
    "\n",
    "sampleCluster.plot()"
   ]
  },
  {
   "cell_type": "markdown",
   "metadata": {
    "pycharm": {
     "name": "#%% md\n"
    }
   },
   "source": [
    "Clusters have an identifier and coordinates. It is easy to extract additional information,\n",
    "e.g. via the summary method"
   ]
  },
  {
   "cell_type": "code",
   "execution_count": null,
   "metadata": {
    "pycharm": {
     "name": "#%%\n"
    }
   },
   "outputs": [],
   "source": [
    "pprint(sampleCluster.summaryDict())"
   ]
  },
  {
   "cell_type": "markdown",
   "metadata": {
    "collapsed": false,
    "pycharm": {
     "name": "#%% md\n"
    }
   },
   "source": [
    "A single cluster is just a wrapper around its coordinates. They can be\n",
    "retrieved either as a numpy array, a geodataframe or a MultiPoint object.\n",
    "The latter is useful for geometric operations, e.g. computing hulls"
   ]
  },
  {
   "cell_type": "code",
   "execution_count": null,
   "metadata": {
    "collapsed": false,
    "pycharm": {
     "name": "#%%\n"
    }
   },
   "outputs": [],
   "source": [
    "clusterMultipoint = sampleCluster.asMultipoint()\n",
    "clusterMultipoint.convex_hull"
   ]
  },
  {
   "cell_type": "code",
   "execution_count": null,
   "metadata": {
    "collapsed": false,
    "pycharm": {
     "name": "#%%\n"
    }
   },
   "outputs": [],
   "source": [
    "# we also provide a utility for computing alpha shapes for such objects\n",
    "\n",
    "alphaShape(clusterMultipoint)"
   ]
  },
  {
   "cell_type": "markdown",
   "metadata": {
    "collapsed": false,
    "pycharm": {
     "name": "#%% md\n"
    }
   },
   "source": [
    "sensAI also provides utilities for computing trees, e.g. here for the minimal spanning tree"
   ]
  },
  {
   "cell_type": "code",
   "execution_count": null,
   "metadata": {
    "collapsed": false,
    "pycharm": {
     "name": "#%%\n"
    }
   },
   "outputs": [],
   "source": [
    "sampleTree = CoordinateSpanningTree(sampleCluster)\n",
    "sampleTree.plot()"
   ]
  },
  {
   "cell_type": "markdown",
   "metadata": {
    "collapsed": false,
    "pycharm": {
     "name": "#%% md\n"
    }
   },
   "source": [
    "Most objects provide a way for extracting a summary from them, either as a dict or as a data frame"
   ]
  },
  {
   "cell_type": "code",
   "execution_count": null,
   "metadata": {
    "pycharm": {
     "name": "#%%\n"
    }
   },
   "outputs": [],
   "source": [
    "print(\"cluster summary:\")\n",
    "pprint(sampleCluster.summaryDict())"
   ]
  },
  {
   "cell_type": "code",
   "execution_count": null,
   "metadata": {
    "pycharm": {
     "name": "#%%\n"
    }
   },
   "outputs": [],
   "source": [
    "dbscan.summaryDF().head()"
   ]
  },
  {
   "cell_type": "markdown",
   "metadata": {
    "pycharm": {
     "name": "#%% md\n"
    }
   },
   "source": [
    "## Saving and Loading"
   ]
  },
  {
   "cell_type": "markdown",
   "metadata": {
    "pycharm": {
     "name": "#%% md\n"
    }
   },
   "source": [
    "All of the objects used above can be exported to a GeoDataFrame using the `toGeoDF` method. This geodataframe\n",
    "can then be persisted as usual.\n",
    "\n",
    "In addition to that `CoordinateClusteringAlgorithm` has its own save method which persists the object as pickle.\n",
    "An instance can be loaded using the load classmethod.\n",
    "This way of persisting the fitted algorithm is _much more efficient and general_ than saving the corresponding gdf\n",
    "\n",
    "Individual clusters themselves also have saving and loading methods,\n",
    "with the difference that they are persisted as (and instantiated from) shapefiles."
   ]
  },
  {
   "cell_type": "code",
   "execution_count": null,
   "metadata": {
    "pycharm": {
     "name": "#%%\n"
    }
   },
   "outputs": [],
   "source": [
    "dbscanGeoDF = dbscan.toGeoDF() # here again a condition for filtering clusters can be passed\n",
    "clusterGeoDF = sampleCluster.toGeoDF()\n",
    "treeGeoDF = sampleTree.toGeoDF()\n",
    "dbscanGeoDF.head()"
   ]
  },
  {
   "cell_type": "code",
   "execution_count": null,
   "metadata": {
    "pycharm": {
     "name": "#%%\n"
    }
   },
   "outputs": [],
   "source": [
    "dbscanSavedPath = os.path.join(c.temp, f\"{dbscan}_sample.pickle\")\n",
    "clusterSavedPath = os.path.join(c.temp, f\"sampleCluster_{sampleCluster.identifier}\")\n",
    "\n",
    "\n",
    "dbscan.save(dbscanSavedPath)\n",
    "sampleCluster.save(clusterSavedPath)"
   ]
  },
  {
   "cell_type": "code",
   "execution_count": null,
   "metadata": {
    "pycharm": {
     "name": "#%%\n"
    }
   },
   "outputs": [],
   "source": [
    "loadedDBSCAN = SkLearnCoordinateClustering.load(dbscanSavedPath)\n",
    "loadedCluster = SkLearnCoordinateClustering.Cluster.load(clusterSavedPath)"
   ]
  },
  {
   "cell_type": "code",
   "execution_count": null,
   "metadata": {
    "pycharm": {
     "name": "#%%\n"
    }
   },
   "outputs": [],
   "source": [
    "# The loaded objects are equal to the ones we persisted\n",
    "\n",
    "print(loadedCluster.identifier == sampleCluster.identifier)\n",
    "print(np.array_equal(sampleCluster.datapoints, loadedDBSCAN.getCluster(0).datapoints))\n",
    "\n",
    "# Cleaning up\n",
    "import shutil\n",
    "\n",
    "shutil.rmtree(clusterSavedPath)\n",
    "os.remove(dbscanSavedPath)"
   ]
  }
 ],
 "metadata": {
  "interpreter": {
   "hash": "9b3442ae4bdb9561e722e28424c33a03c16d40b3aa50369b79d367cad7b1adea"
  },
  "kernelspec": {
   "display_name": "Python 3.8.13 ('sensai')",
   "language": "python",
   "name": "python3"
  },
  "language_info": {
   "codemirror_mode": {
    "name": "ipython",
    "version": 3
   },
   "file_extension": ".py",
   "mimetype": "text/x-python",
   "name": "python",
   "nbconvert_exporter": "python",
   "pygments_lexer": "ipython3",
   "version": "3.8.13"
  }
 },
 "nbformat": 4,
 "nbformat_minor": 4
}
